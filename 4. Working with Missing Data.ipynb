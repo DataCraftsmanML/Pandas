{
 "cells": [
  {
   "cell_type": "markdown",
   "id": "32077f5d-2f7f-4bb2-ae13-be5711e19176",
   "metadata": {},
   "source": [
    "Missing Data "
   ]
  },
  {
   "cell_type": "code",
   "execution_count": 1,
   "id": "bf119b46-1502-4c3d-9119-ddf264666e8d",
   "metadata": {},
   "outputs": [],
   "source": [
    "import pandas as pd"
   ]
  },
  {
   "cell_type": "code",
   "execution_count": 2,
   "id": "ed451d18-ce75-494a-9ea6-58c51793dbf3",
   "metadata": {},
   "outputs": [
    {
     "data": {
      "text/html": [
       "<div>\n",
       "<style scoped>\n",
       "    .dataframe tbody tr th:only-of-type {\n",
       "        vertical-align: middle;\n",
       "    }\n",
       "\n",
       "    .dataframe tbody tr th {\n",
       "        vertical-align: top;\n",
       "    }\n",
       "\n",
       "    .dataframe thead th {\n",
       "        text-align: right;\n",
       "    }\n",
       "</style>\n",
       "<table border=\"1\" class=\"dataframe\">\n",
       "  <thead>\n",
       "    <tr style=\"text-align: right;\">\n",
       "      <th></th>\n",
       "      <th>EEID</th>\n",
       "      <th>NAME</th>\n",
       "      <th>GENDER</th>\n",
       "      <th>SALARY</th>\n",
       "    </tr>\n",
       "  </thead>\n",
       "  <tbody>\n",
       "    <tr>\n",
       "      <th>0</th>\n",
       "      <td>EMPO1</td>\n",
       "      <td>JIYA</td>\n",
       "      <td>F</td>\n",
       "      <td>NaN</td>\n",
       "    </tr>\n",
       "    <tr>\n",
       "      <th>1</th>\n",
       "      <td>EMPO2</td>\n",
       "      <td>MEERA</td>\n",
       "      <td>F</td>\n",
       "      <td>20000.0</td>\n",
       "    </tr>\n",
       "    <tr>\n",
       "      <th>2</th>\n",
       "      <td>EMPO3</td>\n",
       "      <td>MEET</td>\n",
       "      <td>NaN</td>\n",
       "      <td>21000.0</td>\n",
       "    </tr>\n",
       "    <tr>\n",
       "      <th>3</th>\n",
       "      <td>EMPO1</td>\n",
       "      <td>SHIVAM</td>\n",
       "      <td>M</td>\n",
       "      <td>22000.0</td>\n",
       "    </tr>\n",
       "    <tr>\n",
       "      <th>4</th>\n",
       "      <td>EMPO5</td>\n",
       "      <td>NaN</td>\n",
       "      <td>F</td>\n",
       "      <td>23000.0</td>\n",
       "    </tr>\n",
       "    <tr>\n",
       "      <th>5</th>\n",
       "      <td>EMPO6</td>\n",
       "      <td>PRATHAM</td>\n",
       "      <td>M</td>\n",
       "      <td>NaN</td>\n",
       "    </tr>\n",
       "  </tbody>\n",
       "</table>\n",
       "</div>"
      ],
      "text/plain": [
       "    EEID     NAME GENDER   SALARY\n",
       "0  EMPO1     JIYA      F      NaN\n",
       "1  EMPO2    MEERA      F  20000.0\n",
       "2  EMPO3     MEET    NaN  21000.0\n",
       "3  EMPO1   SHIVAM      M  22000.0\n",
       "4  EMPO5      NaN      F  23000.0\n",
       "5  EMPO6  PRATHAM      M      NaN"
      ]
     },
     "execution_count": 2,
     "metadata": {},
     "output_type": "execute_result"
    }
   ],
   "source": [
    "data = pd.read_csv('E:\\\\Download\\\\df.csv')\n",
    "data"
   ]
  },
  {
   "cell_type": "code",
   "execution_count": 13,
   "id": "ff0cf05b-a9d1-4eed-b93e-9d1abde4108f",
   "metadata": {},
   "outputs": [
    {
     "data": {
      "text/html": [
       "<div>\n",
       "<style scoped>\n",
       "    .dataframe tbody tr th:only-of-type {\n",
       "        vertical-align: middle;\n",
       "    }\n",
       "\n",
       "    .dataframe tbody tr th {\n",
       "        vertical-align: top;\n",
       "    }\n",
       "\n",
       "    .dataframe thead th {\n",
       "        text-align: right;\n",
       "    }\n",
       "</style>\n",
       "<table border=\"1\" class=\"dataframe\">\n",
       "  <thead>\n",
       "    <tr style=\"text-align: right;\">\n",
       "      <th></th>\n",
       "      <th>EEID</th>\n",
       "      <th>NAME</th>\n",
       "      <th>GENDER</th>\n",
       "      <th>SALARY</th>\n",
       "    </tr>\n",
       "  </thead>\n",
       "  <tbody>\n",
       "    <tr>\n",
       "      <th>0</th>\n",
       "      <td>False</td>\n",
       "      <td>False</td>\n",
       "      <td>False</td>\n",
       "      <td>True</td>\n",
       "    </tr>\n",
       "    <tr>\n",
       "      <th>1</th>\n",
       "      <td>False</td>\n",
       "      <td>False</td>\n",
       "      <td>False</td>\n",
       "      <td>False</td>\n",
       "    </tr>\n",
       "    <tr>\n",
       "      <th>2</th>\n",
       "      <td>False</td>\n",
       "      <td>False</td>\n",
       "      <td>True</td>\n",
       "      <td>False</td>\n",
       "    </tr>\n",
       "    <tr>\n",
       "      <th>3</th>\n",
       "      <td>False</td>\n",
       "      <td>False</td>\n",
       "      <td>False</td>\n",
       "      <td>False</td>\n",
       "    </tr>\n",
       "    <tr>\n",
       "      <th>4</th>\n",
       "      <td>False</td>\n",
       "      <td>True</td>\n",
       "      <td>False</td>\n",
       "      <td>False</td>\n",
       "    </tr>\n",
       "    <tr>\n",
       "      <th>5</th>\n",
       "      <td>False</td>\n",
       "      <td>False</td>\n",
       "      <td>False</td>\n",
       "      <td>True</td>\n",
       "    </tr>\n",
       "  </tbody>\n",
       "</table>\n",
       "</div>"
      ],
      "text/plain": [
       "    EEID   NAME  GENDER  SALARY\n",
       "0  False  False   False    True\n",
       "1  False  False   False   False\n",
       "2  False  False    True   False\n",
       "3  False  False   False   False\n",
       "4  False   True   False   False\n",
       "5  False  False   False    True"
      ]
     },
     "execution_count": 13,
     "metadata": {},
     "output_type": "execute_result"
    }
   ],
   "source": [
    "data.isnull()"
   ]
  },
  {
   "cell_type": "code",
   "execution_count": 14,
   "id": "ff4adad3-5c14-4231-b58f-cf05beb99139",
   "metadata": {},
   "outputs": [
    {
     "data": {
      "text/plain": [
       "EEID      0\n",
       "NAME      1\n",
       "GENDER    1\n",
       "SALARY    2\n",
       "dtype: int64"
      ]
     },
     "execution_count": 14,
     "metadata": {},
     "output_type": "execute_result"
    }
   ],
   "source": [
    "data.isnull().sum()"
   ]
  },
  {
   "cell_type": "code",
   "execution_count": 34,
   "id": "48f10ea6-609e-4fef-afe7-247c5750488b",
   "metadata": {},
   "outputs": [
    {
     "data": {
      "text/html": [
       "<div>\n",
       "<style scoped>\n",
       "    .dataframe tbody tr th:only-of-type {\n",
       "        vertical-align: middle;\n",
       "    }\n",
       "\n",
       "    .dataframe tbody tr th {\n",
       "        vertical-align: top;\n",
       "    }\n",
       "\n",
       "    .dataframe thead th {\n",
       "        text-align: right;\n",
       "    }\n",
       "</style>\n",
       "<table border=\"1\" class=\"dataframe\">\n",
       "  <thead>\n",
       "    <tr style=\"text-align: right;\">\n",
       "      <th></th>\n",
       "      <th>EEID</th>\n",
       "      <th>NAME</th>\n",
       "      <th>GENDER</th>\n",
       "      <th>SALARY</th>\n",
       "    </tr>\n",
       "  </thead>\n",
       "  <tbody>\n",
       "    <tr>\n",
       "      <th>1</th>\n",
       "      <td>EMPO2</td>\n",
       "      <td>MEERA</td>\n",
       "      <td>F</td>\n",
       "      <td>20000.0</td>\n",
       "    </tr>\n",
       "    <tr>\n",
       "      <th>3</th>\n",
       "      <td>EMPO1</td>\n",
       "      <td>SHIVAM</td>\n",
       "      <td>M</td>\n",
       "      <td>22000.0</td>\n",
       "    </tr>\n",
       "  </tbody>\n",
       "</table>\n",
       "</div>"
      ],
      "text/plain": [
       "    EEID    NAME GENDER   SALARY\n",
       "1  EMPO2   MEERA      F  20000.0\n",
       "3  EMPO1  SHIVAM      M  22000.0"
      ]
     },
     "execution_count": 34,
     "metadata": {},
     "output_type": "execute_result"
    }
   ],
   "source": [
    "data.dropna()"
   ]
  },
  {
   "cell_type": "code",
   "execution_count": 27,
   "id": "028fda3b-241c-4663-a53e-dc1a84df39aa",
   "metadata": {},
   "outputs": [],
   "source": [
    "import numpy as np"
   ]
  },
  {
   "cell_type": "code",
   "execution_count": 39,
   "id": "38063398-3dcf-4ca9-bdce-b3feb8253941",
   "metadata": {},
   "outputs": [
    {
     "data": {
      "text/html": [
       "<div>\n",
       "<style scoped>\n",
       "    .dataframe tbody tr th:only-of-type {\n",
       "        vertical-align: middle;\n",
       "    }\n",
       "\n",
       "    .dataframe tbody tr th {\n",
       "        vertical-align: top;\n",
       "    }\n",
       "\n",
       "    .dataframe thead th {\n",
       "        text-align: right;\n",
       "    }\n",
       "</style>\n",
       "<table border=\"1\" class=\"dataframe\">\n",
       "  <thead>\n",
       "    <tr style=\"text-align: right;\">\n",
       "      <th></th>\n",
       "      <th>EEID</th>\n",
       "      <th>NAME</th>\n",
       "      <th>GENDER</th>\n",
       "      <th>SALARY</th>\n",
       "    </tr>\n",
       "  </thead>\n",
       "  <tbody>\n",
       "    <tr>\n",
       "      <th>0</th>\n",
       "      <td>EMPO1</td>\n",
       "      <td>JIYA</td>\n",
       "      <td>F</td>\n",
       "      <td>30000.0</td>\n",
       "    </tr>\n",
       "    <tr>\n",
       "      <th>1</th>\n",
       "      <td>EMPO2</td>\n",
       "      <td>MEERA</td>\n",
       "      <td>F</td>\n",
       "      <td>20000.0</td>\n",
       "    </tr>\n",
       "    <tr>\n",
       "      <th>2</th>\n",
       "      <td>EMPO3</td>\n",
       "      <td>MEET</td>\n",
       "      <td>30000</td>\n",
       "      <td>21000.0</td>\n",
       "    </tr>\n",
       "    <tr>\n",
       "      <th>3</th>\n",
       "      <td>EMPO1</td>\n",
       "      <td>SHIVAM</td>\n",
       "      <td>M</td>\n",
       "      <td>22000.0</td>\n",
       "    </tr>\n",
       "    <tr>\n",
       "      <th>4</th>\n",
       "      <td>EMPO5</td>\n",
       "      <td>30000</td>\n",
       "      <td>F</td>\n",
       "      <td>23000.0</td>\n",
       "    </tr>\n",
       "    <tr>\n",
       "      <th>5</th>\n",
       "      <td>EMPO6</td>\n",
       "      <td>PRATHAM</td>\n",
       "      <td>M</td>\n",
       "      <td>30000.0</td>\n",
       "    </tr>\n",
       "  </tbody>\n",
       "</table>\n",
       "</div>"
      ],
      "text/plain": [
       "    EEID     NAME GENDER   SALARY\n",
       "0  EMPO1     JIYA      F  30000.0\n",
       "1  EMPO2    MEERA      F  20000.0\n",
       "2  EMPO3     MEET  30000  21000.0\n",
       "3  EMPO1   SHIVAM      M  22000.0\n",
       "4  EMPO5    30000      F  23000.0\n",
       "5  EMPO6  PRATHAM      M  30000.0"
      ]
     },
     "execution_count": 39,
     "metadata": {},
     "output_type": "execute_result"
    }
   ],
   "source": [
    "data.replace(np.nan, 30000)"
   ]
  },
  {
   "cell_type": "markdown",
   "id": "fc8c7feb-2dd9-4bab-a759-48b2c0e092e8",
   "metadata": {},
   "source": [
    "Direct Column Update: By using data[\"SALARY\"] = ..., you're directly updating the \"SALARY\" column with the modified values, replacing any NaN values with 30000.\n",
    "\n",
    "numpy is used to access np.nan, which represents missing data (NaN) in pandas. By using np.nan, you can easily identify and replace missing values. pandas relies on numpy for handling these NaN values consistently across numerical operations."
   ]
  },
  {
   "cell_type": "code",
   "execution_count": 40,
   "id": "8e3296c0-797e-4837-b579-b85f93a69b57",
   "metadata": {},
   "outputs": [
    {
     "data": {
      "text/html": [
       "<div>\n",
       "<style scoped>\n",
       "    .dataframe tbody tr th:only-of-type {\n",
       "        vertical-align: middle;\n",
       "    }\n",
       "\n",
       "    .dataframe tbody tr th {\n",
       "        vertical-align: top;\n",
       "    }\n",
       "\n",
       "    .dataframe thead th {\n",
       "        text-align: right;\n",
       "    }\n",
       "</style>\n",
       "<table border=\"1\" class=\"dataframe\">\n",
       "  <thead>\n",
       "    <tr style=\"text-align: right;\">\n",
       "      <th></th>\n",
       "      <th>EEID</th>\n",
       "      <th>NAME</th>\n",
       "      <th>GENDER</th>\n",
       "      <th>SALARY</th>\n",
       "    </tr>\n",
       "  </thead>\n",
       "  <tbody>\n",
       "    <tr>\n",
       "      <th>0</th>\n",
       "      <td>EMPO1</td>\n",
       "      <td>JIYA</td>\n",
       "      <td>F</td>\n",
       "      <td>30000.0</td>\n",
       "    </tr>\n",
       "    <tr>\n",
       "      <th>1</th>\n",
       "      <td>EMPO2</td>\n",
       "      <td>MEERA</td>\n",
       "      <td>F</td>\n",
       "      <td>20000.0</td>\n",
       "    </tr>\n",
       "    <tr>\n",
       "      <th>2</th>\n",
       "      <td>EMPO3</td>\n",
       "      <td>MEET</td>\n",
       "      <td>NaN</td>\n",
       "      <td>21000.0</td>\n",
       "    </tr>\n",
       "    <tr>\n",
       "      <th>3</th>\n",
       "      <td>EMPO1</td>\n",
       "      <td>SHIVAM</td>\n",
       "      <td>M</td>\n",
       "      <td>22000.0</td>\n",
       "    </tr>\n",
       "    <tr>\n",
       "      <th>4</th>\n",
       "      <td>EMPO5</td>\n",
       "      <td>NaN</td>\n",
       "      <td>F</td>\n",
       "      <td>23000.0</td>\n",
       "    </tr>\n",
       "    <tr>\n",
       "      <th>5</th>\n",
       "      <td>EMPO6</td>\n",
       "      <td>PRATHAM</td>\n",
       "      <td>M</td>\n",
       "      <td>30000.0</td>\n",
       "    </tr>\n",
       "  </tbody>\n",
       "</table>\n",
       "</div>"
      ],
      "text/plain": [
       "    EEID     NAME GENDER   SALARY\n",
       "0  EMPO1     JIYA      F  30000.0\n",
       "1  EMPO2    MEERA      F  20000.0\n",
       "2  EMPO3     MEET    NaN  21000.0\n",
       "3  EMPO1   SHIVAM      M  22000.0\n",
       "4  EMPO5      NaN      F  23000.0\n",
       "5  EMPO6  PRATHAM      M  30000.0"
      ]
     },
     "execution_count": 40,
     "metadata": {},
     "output_type": "execute_result"
    }
   ],
   "source": [
    "data[\"SALARY\"] = data[\"SALARY\"].replace(np.nan,30000)\n",
    "data"
   ]
  },
  {
   "cell_type": "code",
   "execution_count": 33,
   "id": "6b116441-1606-4d4a-bdfb-e03d428a8044",
   "metadata": {},
   "outputs": [
    {
     "name": "stdout",
     "output_type": "stream",
     "text": [
      "20666.666666666668\n"
     ]
    }
   ],
   "source": [
    "print(data[\"SALARY\"].mean())"
   ]
  },
  {
   "cell_type": "code",
   "execution_count": 48,
   "id": "d15e9e47-5495-4708-bfec-7ee5fdc547d8",
   "metadata": {},
   "outputs": [
    {
     "data": {
      "text/html": [
       "<div>\n",
       "<style scoped>\n",
       "    .dataframe tbody tr th:only-of-type {\n",
       "        vertical-align: middle;\n",
       "    }\n",
       "\n",
       "    .dataframe tbody tr th {\n",
       "        vertical-align: top;\n",
       "    }\n",
       "\n",
       "    .dataframe thead th {\n",
       "        text-align: right;\n",
       "    }\n",
       "</style>\n",
       "<table border=\"1\" class=\"dataframe\">\n",
       "  <thead>\n",
       "    <tr style=\"text-align: right;\">\n",
       "      <th></th>\n",
       "      <th>EEID</th>\n",
       "      <th>NAME</th>\n",
       "      <th>GENDER</th>\n",
       "      <th>SALARY</th>\n",
       "    </tr>\n",
       "  </thead>\n",
       "  <tbody>\n",
       "    <tr>\n",
       "      <th>0</th>\n",
       "      <td>EMPO1</td>\n",
       "      <td>JIYA</td>\n",
       "      <td>F</td>\n",
       "      <td>NaN</td>\n",
       "    </tr>\n",
       "    <tr>\n",
       "      <th>1</th>\n",
       "      <td>EMPO2</td>\n",
       "      <td>MEERA</td>\n",
       "      <td>F</td>\n",
       "      <td>20000.0</td>\n",
       "    </tr>\n",
       "    <tr>\n",
       "      <th>2</th>\n",
       "      <td>EMPO3</td>\n",
       "      <td>MEET</td>\n",
       "      <td>NaN</td>\n",
       "      <td>21000.0</td>\n",
       "    </tr>\n",
       "    <tr>\n",
       "      <th>3</th>\n",
       "      <td>EMPO1</td>\n",
       "      <td>SHIVAM</td>\n",
       "      <td>M</td>\n",
       "      <td>22000.0</td>\n",
       "    </tr>\n",
       "    <tr>\n",
       "      <th>4</th>\n",
       "      <td>EMPO5</td>\n",
       "      <td>NaN</td>\n",
       "      <td>F</td>\n",
       "      <td>23000.0</td>\n",
       "    </tr>\n",
       "    <tr>\n",
       "      <th>5</th>\n",
       "      <td>EMPO6</td>\n",
       "      <td>PRATHAM</td>\n",
       "      <td>M</td>\n",
       "      <td>NaN</td>\n",
       "    </tr>\n",
       "  </tbody>\n",
       "</table>\n",
       "</div>"
      ],
      "text/plain": [
       "    EEID     NAME GENDER   SALARY\n",
       "0  EMPO1     JIYA      F      NaN\n",
       "1  EMPO2    MEERA      F  20000.0\n",
       "2  EMPO3     MEET    NaN  21000.0\n",
       "3  EMPO1   SHIVAM      M  22000.0\n",
       "4  EMPO5      NaN      F  23000.0\n",
       "5  EMPO6  PRATHAM      M      NaN"
      ]
     },
     "execution_count": 48,
     "metadata": {},
     "output_type": "execute_result"
    }
   ],
   "source": [
    "data"
   ]
  },
  {
   "cell_type": "code",
   "execution_count": 57,
   "id": "bb2f08c1-aa45-405b-96f2-733190211600",
   "metadata": {},
   "outputs": [
    {
     "name": "stdout",
     "output_type": "stream",
     "text": [
      "    EEID     NAME GENDER   SALARY\n",
      "0  EMPO1     JIYA      F  20000.0\n",
      "1  EMPO2    MEERA      F  20000.0\n",
      "2  EMPO3     MEET      M  21000.0\n",
      "3  EMPO1   SHIVAM      M  22000.0\n",
      "4  EMPO5  PRATHAM      F  23000.0\n",
      "5  EMPO6  PRATHAM      M      NaN\n"
     ]
    }
   ],
   "source": [
    "print(data.bfill())"
   ]
  },
  {
   "cell_type": "code",
   "execution_count": 59,
   "id": "65736a39-0412-43fd-8599-a8167f7208f7",
   "metadata": {},
   "outputs": [
    {
     "name": "stdout",
     "output_type": "stream",
     "text": [
      "    EEID     NAME GENDER   SALARY\n",
      "0  EMPO1     JIYA      F      NaN\n",
      "1  EMPO2    MEERA      F  20000.0\n",
      "2  EMPO3     MEET      F  21000.0\n",
      "3  EMPO1   SHIVAM      M  22000.0\n",
      "4  EMPO5   SHIVAM      F  23000.0\n",
      "5  EMPO6  PRATHAM      M  23000.0\n"
     ]
    }
   ],
   "source": [
    "print(data.ffill())"
   ]
  },
  {
   "cell_type": "code",
   "execution_count": 60,
   "id": "869bebbf-1e2f-4341-942a-18ef3718cc18",
   "metadata": {},
   "outputs": [
    {
     "name": "stdout",
     "output_type": "stream",
     "text": [
      "    EEID     NAME GENDER   SALARY\n",
      "0  EMPO1     JIYA      F       hy\n",
      "1  EMPO2    MEERA      F  20000.0\n",
      "2  EMPO3     MEET     hy  21000.0\n",
      "3  EMPO1   SHIVAM      M  22000.0\n",
      "4  EMPO5       hy      F  23000.0\n",
      "5  EMPO6  PRATHAM      M       hy\n"
     ]
    }
   ],
   "source": [
    "print(data.fillna(\"hy\"))"
   ]
  },
  {
   "cell_type": "code",
   "execution_count": null,
   "id": "a353a75b-adbc-4f87-a944-1daf32ce231b",
   "metadata": {},
   "outputs": [],
   "source": [
    "data.loc[...]: This is used to access and modify specific rows in the DataFrame."
   ]
  },
  {
   "cell_type": "code",
   "execution_count": 62,
   "id": "611460a4-4ed3-47f0-b3b8-e7fb6fe679bc",
   "metadata": {},
   "outputs": [
    {
     "name": "stdout",
     "output_type": "stream",
     "text": [
      "    EEID     NAME GENDER   SALARY\n",
      "0  EMPO1     JIYA      F  15000.0\n",
      "1  EMPO2    MEERA      F  20000.0\n",
      "2  EMPO3     MEET    NaN  21000.0\n",
      "3  EMPO1   SHIVAM      M  15000.0\n",
      "4  EMPO5      NaN      F  23000.0\n",
      "5  EMPO6  PRATHAM      M  30000.0\n"
     ]
    }
   ],
   "source": [
    "data.loc[data['EEID'] == 'EMPO1', 'SALARY'] = 15000\n",
    "data.loc[data['EEID'] == 'EMPO6', 'SALARY'] = 30000\n",
    "\n",
    "print(data)"
   ]
  },
  {
   "cell_type": "code",
   "execution_count": 68,
   "id": "0ca9fcfb-2383-4faf-b4c2-069657bbffc4",
   "metadata": {},
   "outputs": [
    {
     "name": "stdout",
     "output_type": "stream",
     "text": [
      "    EEID     NAME GENDER   SALARY\n",
      "0  EMPO1     JIYA      F  15000.0\n",
      "1  EMPO2    MEERA      F  20000.0\n",
      "2  EMPO3  SHRESHA      M  21000.0\n",
      "3  EMPO1   SHIVAM      M  15000.0\n",
      "4  EMPO5     GIVA      F  23000.0\n",
      "5  EMPO6  PRATHAM      M  30000.0\n"
     ]
    }
   ],
   "source": [
    "data.loc[data['EEID'] == 'EMPO1', 'SALARY'] = 15000\n",
    "data.loc[data['EEID'] == 'EMPO6', 'SALARY'] = 30000\n",
    "data.loc[data['EEID'] == 'EMPO3', 'GENDER'] = 'M'\n",
    "data.loc[data['EEID'] == 'EMPO3', 'NAME'] = 'SHRESHA'\n",
    "data.loc[data['EEID'] == 'EMPO5', 'NAME'] = 'GIVA'\n",
    "print(data)"
   ]
  },
  {
   "cell_type": "code",
   "execution_count": 4,
   "id": "86b7890a-2480-462a-85a0-325464901d2f",
   "metadata": {},
   "outputs": [
    {
     "name": "stdout",
     "output_type": "stream",
     "text": [
      "21500.0\n"
     ]
    }
   ],
   "source": [
    "import pandas as pd\n",
    "data = pd.read_csv('E:\\\\Download\\\\df.csv')\n",
    "print(data[\"SALARY\"].median())"
   ]
  },
  {
   "cell_type": "code",
   "execution_count": 5,
   "id": "85e1e3c2-5dee-4938-a8ab-6ee478789ad3",
   "metadata": {},
   "outputs": [
    {
     "name": "stdout",
     "output_type": "stream",
     "text": [
      "0    20000.0\n",
      "1    21000.0\n",
      "2    22000.0\n",
      "3    23000.0\n",
      "Name: SALARY, dtype: float64\n"
     ]
    }
   ],
   "source": [
    "print(data[\"SALARY\"].mode())"
   ]
  }
 ],
 "metadata": {
  "kernelspec": {
   "display_name": "Python 3 (ipykernel)",
   "language": "python",
   "name": "python3"
  },
  "language_info": {
   "codemirror_mode": {
    "name": "ipython",
    "version": 3
   },
   "file_extension": ".py",
   "mimetype": "text/x-python",
   "name": "python",
   "nbconvert_exporter": "python",
   "pygments_lexer": "ipython3",
   "version": "3.12.4"
  }
 },
 "nbformat": 4,
 "nbformat_minor": 5
}
