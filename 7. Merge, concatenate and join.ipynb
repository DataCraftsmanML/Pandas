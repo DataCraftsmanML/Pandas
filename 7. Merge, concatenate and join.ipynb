{
 "cells": [
  {
   "cell_type": "code",
   "execution_count": 1,
   "id": "8bf3ffdc-b1b8-4105-ab83-4ca84fdd7220",
   "metadata": {},
   "outputs": [],
   "source": [
    "import pandas as pd"
   ]
  },
  {
   "cell_type": "code",
   "execution_count": 52,
   "id": "acebb53a-5dd2-4c49-826b-6cfb956554c4",
   "metadata": {},
   "outputs": [
    {
     "name": "stdout",
     "output_type": "stream",
     "text": [
      "       EEID        Full Name                 Job Title\n",
      "0    E02387      Emily Davis                Sr. Manger\n",
      "1    E04108    Theodore Dinh       Technical Architect\n",
      "2    E02575     Luna Sanders                  Director\n",
      "3    E02832  Penelope Jordan  Computer Systems Manager\n",
      "4    E01639        Austin Vo               Sr. Analyst\n",
      "..      ...              ...                       ...\n",
      "995  E03099     Wesley Young               Sr. Analyst\n",
      "996  E01909     Lillian Khan                   Analyst\n",
      "997  E04398      Oliver Yang                  Director\n",
      "998  E02521      Lily Nguyen               Sr. Analyst\n",
      "999  E03545      Sofia Cheng            Vice President\n",
      "\n",
      "[1000 rows x 3 columns]\n"
     ]
    }
   ],
   "source": [
    "data1 = pd.read_excel(\"merge1.xlsx\")\n",
    "print(data1)"
   ]
  },
  {
   "cell_type": "code",
   "execution_count": 53,
   "id": "72fb934e-7529-4098-b9ec-98861e91273b",
   "metadata": {},
   "outputs": [
    {
     "name": "stdout",
     "output_type": "stream",
     "text": [
      "       EEID  Annual Salary        Country\n",
      "0    E02388          72045  United States\n",
      "1    E04105          99975          China\n",
      "2    E02572         163099  United States\n",
      "3    E02831          84913  United States\n",
      "4    E01639          95409  United States\n",
      "..      ...            ...            ...\n",
      "995  E03094          98427  United States\n",
      "996  E01909          47387          China\n",
      "997  E04395         176710  United States\n",
      "998  E02521          95960          China\n",
      "999  E03542         216195  United States\n",
      "\n",
      "[1000 rows x 3 columns]\n"
     ]
    }
   ],
   "source": [
    "data2 = pd.read_excel(\"merge2.xlsx\")\n",
    "print(data2)"
   ]
  },
  {
   "cell_type": "code",
   "execution_count": 54,
   "id": "aad4861e-9443-4dab-9929-516c3c417143",
   "metadata": {},
   "outputs": [
    {
     "name": "stdout",
     "output_type": "stream",
     "text": [
      "        EEID          Full Name               Job Title  Annual Salary  \\\n",
      "0     E04108      Theodore Dinh     Technical Architect          88343   \n",
      "1     E01639          Austin Vo             Sr. Analyst          95409   \n",
      "2     E01639          Austin Vo             Sr. Analyst          48266   \n",
      "3     E00644       Joshua Gupta  Account Representative          50994   \n",
      "4     E01550        Ruby Barnes                 Manager         119746   \n",
      "...      ...                ...                     ...            ...   \n",
      "1179  E03058      Robert Wright     Technical Architect          67489   \n",
      "1180  E04762  Audrey Richardson                Director         166259   \n",
      "1181  E01148     Scarlett Kumar         Systems Analyst          47032   \n",
      "1182  E01909       Lillian Khan                 Analyst          47387   \n",
      "1183  E02521        Lily Nguyen             Sr. Analyst          95960   \n",
      "\n",
      "            Country  \n",
      "0            Brazil  \n",
      "1     United States  \n",
      "2     United States  \n",
      "3             China  \n",
      "4     United States  \n",
      "...             ...  \n",
      "1179  United States  \n",
      "1180  United States  \n",
      "1181  United States  \n",
      "1182          China  \n",
      "1183          China  \n",
      "\n",
      "[1184 rows x 5 columns]\n"
     ]
    }
   ],
   "source": [
    "print(pd.merge(data1, data2, on = \"EEID\"))"
   ]
  },
  {
   "cell_type": "code",
   "execution_count": 55,
   "id": "70feb548-c128-4bf5-b2a9-c83306d56acd",
   "metadata": {},
   "outputs": [
    {
     "name": "stdout",
     "output_type": "stream",
     "text": [
      "        EEID        Full Name                 Job Title  Annual Salary  \\\n",
      "0     E02387      Emily Davis                Sr. Manger            NaN   \n",
      "1     E04108    Theodore Dinh       Technical Architect        88343.0   \n",
      "2     E02575     Luna Sanders                  Director            NaN   \n",
      "3     E02832  Penelope Jordan  Computer Systems Manager            NaN   \n",
      "4     E01639        Austin Vo               Sr. Analyst        95409.0   \n",
      "...      ...              ...                       ...            ...   \n",
      "1185  E03099     Wesley Young               Sr. Analyst            NaN   \n",
      "1186  E01909     Lillian Khan                   Analyst        47387.0   \n",
      "1187  E04398      Oliver Yang                  Director            NaN   \n",
      "1188  E02521      Lily Nguyen               Sr. Analyst        95960.0   \n",
      "1189  E03545      Sofia Cheng            Vice President            NaN   \n",
      "\n",
      "            Country  \n",
      "0               NaN  \n",
      "1            Brazil  \n",
      "2               NaN  \n",
      "3               NaN  \n",
      "4     United States  \n",
      "...             ...  \n",
      "1185            NaN  \n",
      "1186          China  \n",
      "1187            NaN  \n",
      "1188          China  \n",
      "1189            NaN  \n",
      "\n",
      "[1190 rows x 5 columns]\n"
     ]
    }
   ],
   "source": [
    "print(pd.merge(left = data1, right = data2, on = \"EEID\", how = \"left\"))"
   ]
  },
  {
   "cell_type": "code",
   "execution_count": 50,
   "id": "1c5b0221-3fa3-4a95-bb32-2d3afdc9cdbf",
   "metadata": {},
   "outputs": [
    {
     "name": "stdout",
     "output_type": "stream",
     "text": [
      "        EEID     Full Name    Job Title  Annual Salary        Country\n",
      "0     E02388           NaN          NaN          72045  United States\n",
      "1     E04105           NaN          NaN          99975          China\n",
      "2     E02572           NaN          NaN         163099  United States\n",
      "3     E02831           NaN          NaN          84913  United States\n",
      "4     E01639     Austin Vo  Sr. Analyst          95409  United States\n",
      "...      ...           ...          ...            ...            ...\n",
      "1186  E03094           NaN          NaN          98427  United States\n",
      "1187  E01909  Lillian Khan      Analyst          47387          China\n",
      "1188  E04395           NaN          NaN         176710  United States\n",
      "1189  E02521   Lily Nguyen  Sr. Analyst          95960          China\n",
      "1190  E03542           NaN          NaN         216195  United States\n",
      "\n",
      "[1191 rows x 5 columns]\n"
     ]
    }
   ],
   "source": [
    "print(pd.merge(left = data1, right = data2, on = \"EEID\", how = \"right\"))"
   ]
  },
  {
   "cell_type": "code",
   "execution_count": null,
   "id": "1c6bda4c-a81d-4471-97cb-bc1507ba66df",
   "metadata": {},
   "outputs": [],
   "source": []
  }
 ],
 "metadata": {
  "kernelspec": {
   "display_name": "Python 3 (ipykernel)",
   "language": "python",
   "name": "python3"
  },
  "language_info": {
   "codemirror_mode": {
    "name": "ipython",
    "version": 3
   },
   "file_extension": ".py",
   "mimetype": "text/x-python",
   "name": "python",
   "nbconvert_exporter": "python",
   "pygments_lexer": "ipython3",
   "version": "3.12.4"
  }
 },
 "nbformat": 4,
 "nbformat_minor": 5
}
