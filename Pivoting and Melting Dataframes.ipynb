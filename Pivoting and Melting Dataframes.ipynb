{
 "cells": [
  {
   "cell_type": "code",
   "execution_count": 1,
   "id": "8643e7e8-f6d8-4d4f-afd9-d37799a51553",
   "metadata": {},
   "outputs": [],
   "source": [
    "import pandas as pd"
   ]
  },
  {
   "cell_type": "code",
   "execution_count": 25,
   "id": "1ecdf75b-ec03-4272-9030-f6f46ff8977c",
   "metadata": {},
   "outputs": [
    {
     "name": "stdout",
     "output_type": "stream",
     "text": [
      "         Full Name Department  Annual Salary\n",
      "0      Emily Davis         IT         141604\n",
      "1    Theodore Dinh         IT          99975\n",
      "2     Luna Sanders    Finance         163099\n",
      "3  Penelope Jordan         IT          84913\n",
      "4        Austin Vo    Finance          95409\n"
     ]
    }
   ],
   "source": [
    "data = pd.read_excel(\"compare datafram.xlsx\").head(5)\n",
    "print(data)"
   ]
  },
  {
   "cell_type": "code",
   "execution_count": 26,
   "id": "ac8fdadd-b038-4889-b8ee-1af661acd4e7",
   "metadata": {},
   "outputs": [
    {
     "name": "stdout",
     "output_type": "stream",
     "text": [
      "Full Name   Austin Vo  Emily Davis  Luna Sanders  Penelope Jordan  \\\n",
      "Department                                                          \n",
      "Finance       95409.0          NaN      163099.0              NaN   \n",
      "IT                NaN     141604.0           NaN          84913.0   \n",
      "\n",
      "Full Name   Theodore Dinh  \n",
      "Department                 \n",
      "Finance               NaN  \n",
      "IT                99975.0  \n"
     ]
    }
   ],
   "source": [
    "pivoted_data = data.pivot_table(values=\"Annual Salary\", index=\"Department\", columns=\"Full Name\", aggfunc=\"sum\")\n",
    "print(pivoted_data)\n"
   ]
  },
  {
   "cell_type": "code",
   "execution_count": 38,
   "id": "d9b2300c-f45a-43e3-a972-63a084d1858b",
   "metadata": {},
   "outputs": [
    {
     "name": "stdout",
     "output_type": "stream",
     "text": [
      "         Full Name Department  Annual Salary\n",
      "0      Emily Davis         IT         141604\n",
      "1    Theodore Dinh         IT          99975\n",
      "2     Luna Sanders    Finance         163099\n",
      "3  Penelope Jordan         IT          84913\n",
      "4        Austin Vo    Finance          95409\n"
     ]
    }
   ],
   "source": [
    "print(data)"
   ]
  },
  {
   "cell_type": "code",
   "execution_count": 35,
   "id": "e421a167-b7eb-4f9b-9f6f-f8a321100479",
   "metadata": {},
   "outputs": [
    {
     "name": "stdout",
     "output_type": "stream",
     "text": [
      "         Full Name    variable    value\n",
      "0      Emily Davis  Department       IT\n",
      "1    Theodore Dinh  Department       IT\n",
      "2     Luna Sanders  Department  Finance\n",
      "3  Penelope Jordan  Department       IT\n",
      "4        Austin Vo  Department  Finance\n"
     ]
    }
   ],
   "source": [
    "print(pd.melt(data, id_vars=[\"Full Name\"], value_vars=[\"Department\"]))"
   ]
  },
  {
   "cell_type": "code",
   "execution_count": 33,
   "id": "1becef45-35e0-46d8-a795-4de8a98c5725",
   "metadata": {},
   "outputs": [
    {
     "name": "stdout",
     "output_type": "stream",
     "text": [
      "         Full Name Department&Salary    value\n",
      "0      Emily Davis        Department       IT\n",
      "1    Theodore Dinh        Department       IT\n",
      "2     Luna Sanders        Department  Finance\n",
      "3  Penelope Jordan        Department       IT\n",
      "4        Austin Vo        Department  Finance\n",
      "5      Emily Davis     Annual Salary   141604\n",
      "6    Theodore Dinh     Annual Salary    99975\n",
      "7     Luna Sanders     Annual Salary   163099\n",
      "8  Penelope Jordan     Annual Salary    84913\n",
      "9        Austin Vo     Annual Salary    95409\n"
     ]
    }
   ],
   "source": [
    "print(pd.melt(data, id_vars=[\"Full Name\"], value_vars=[\"Department\", \"Annual Salary\"], var_name=\"Department&Salary\"))"
   ]
  },
  {
   "cell_type": "code",
   "execution_count": null,
   "id": "f73d97f2-5a46-4159-a58e-2f5e87a762b3",
   "metadata": {},
   "outputs": [],
   "source": []
  }
 ],
 "metadata": {
  "kernelspec": {
   "display_name": "Python 3 (ipykernel)",
   "language": "python",
   "name": "python3"
  },
  "language_info": {
   "codemirror_mode": {
    "name": "ipython",
    "version": 3
   },
   "file_extension": ".py",
   "mimetype": "text/x-python",
   "name": "python",
   "nbconvert_exporter": "python",
   "pygments_lexer": "ipython3",
   "version": "3.12.4"
  }
 },
 "nbformat": 4,
 "nbformat_minor": 5
}
