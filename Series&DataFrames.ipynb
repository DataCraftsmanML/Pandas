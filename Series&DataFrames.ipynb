{
 "cells": [
  {
   "cell_type": "code",
   "execution_count": 2,
   "id": "c9a94da2-e0df-4b4d-a38e-9846439aac99",
   "metadata": {},
   "outputs": [],
   "source": [
    "import pandas as pd"
   ]
  },
  {
   "cell_type": "markdown",
   "id": "a0ffb5c4-7c9f-4693-9f27-18e00d015113",
   "metadata": {},
   "source": [
    "                                                                        Series"
   ]
  },
  {
   "cell_type": "markdown",
   "id": "9a153f26-f6cf-4fa1-b590-1c6e7dc7f4d5",
   "metadata": {},
   "source": [
    "A Pandas Series is like a column in a table.\n",
    "It is a one-dimensional array holding data of any type."
   ]
  },
  {
   "cell_type": "code",
   "execution_count": 3,
   "id": "004f7f6a-113a-4f59-9201-4dc7d212922c",
   "metadata": {},
   "outputs": [
    {
     "name": "stdout",
     "output_type": "stream",
     "text": [
      "0    1\n",
      "1    7\n",
      "2    2\n",
      "dtype: int64\n"
     ]
    }
   ],
   "source": [
    "x = [1, 7, 2]\n",
    "y = pd.Series(x)\n",
    "print(y)\n",
    "\n"
   ]
  },
  {
   "cell_type": "markdown",
   "id": "9775392f-b15e-48c1-a0c0-5aef41e0b0bb",
   "metadata": {},
   "source": [
    "Create Labels\n",
    "\n",
    "If nothing else is specified, the values are labeled with their index number. First value has index 0,\n",
    "second value has index 1 etc. This label can be used to access a specified value."
   ]
  },
  {
   "cell_type": "code",
   "execution_count": 4,
   "id": "7b1b6dba-d315-4b71-9d2f-0c34d68f2303",
   "metadata": {},
   "outputs": [
    {
     "name": "stdout",
     "output_type": "stream",
     "text": [
      "x    1\n",
      "y    7\n",
      "z    2\n",
      "dtype: int64\n"
     ]
    }
   ],
   "source": [
    "x = [1, 7, 2]\n",
    "y = pd.Series(x, index=['x','y','z'])\n",
    "print(y)\n"
   ]
  },
  {
   "cell_type": "markdown",
   "id": "44c7e7ef-3153-4f87-a7fc-787aae4c2de4",
   "metadata": {},
   "source": [
    "Key/Value Objects as Series\n",
    "\n",
    "Second code: Simple dictionary. Each key has one value. Suited for creating a Series (single column).\n",
    "index=[\"day2\"]: Selects data during Series creation\n",
    "iloc[2]: Selects by integer position after Series creation\n",
    "loc[\"day3\"]: Selects by label (key) after Series creation"
   ]
  },
  {
   "cell_type": "code",
   "execution_count": 20,
   "id": "7fcf1c4a-aaa0-45bd-aaa9-db52b419538f",
   "metadata": {},
   "outputs": [
    {
     "name": "stdout",
     "output_type": "stream",
     "text": [
      "day2    380\n",
      "dtype: int64\n",
      "390\n",
      "390\n"
     ]
    }
   ],
   "source": [
    "j1 = {\"day1\": 420, \"day2\": 380, \"day3\": 390}\n",
    "myvar1 = pd.Series(j1, index = [\"day2\"]) #not use like a array\n",
    "myvar2 = pd.Series(j1).iloc[2] #not use like a key\n",
    "myvar3 = pd.Series(j1).loc[\"day3\"] #loc is used for label-based indexing\n",
    "print(myvar1)\n",
    "print(myvar2)\n",
    "print(myvar3)\n",
    "\n"
   ]
  },
  {
   "cell_type": "markdown",
   "id": "e30c0568-9431-4492-9569-fd830947e344",
   "metadata": {},
   "source": [
    "                                                                   DataFrames"
   ]
  },
  {
   "cell_type": "markdown",
   "id": "823796d5-49e0-49a0-ab0d-1b934911d589",
   "metadata": {},
   "source": [
    "DataFrames\n",
    "Here, a dictionary called mydataset is created. It has two keys: 'cars' and 'passings'.The 'cars' key has a\n",
    "list of car brands as its value, and the 'passings' key has a list of numbers as its value.\n",
    "\n",
    "DataFrame() is like a table creator. It takes your data\n",
    "(in this case, mydataset) and organizes it into rows and columns,\n",
    "A DataFrame is a two-dimensional labeled data structure in pandas, similar table.\n",
    "\n",
    "\n",
    "First code: Dictionary of lists. Each key has multiple values.\n",
    "Suited for creating a DataFrame (multiple columns)."
   ]
  },
  {
   "cell_type": "code",
   "execution_count": 6,
   "id": "1a846f0f-c169-4cb9-8781-2f44c2fb5ed4",
   "metadata": {},
   "outputs": [
    {
     "name": "stdout",
     "output_type": "stream",
     "text": [
      "    cars  passings  new\n",
      "0    jia        19   23\n",
      "1   meet        22   56\n",
      "2  meera        17   77\n"
     ]
    }
   ],
   "source": [
    "mydataset = { 'cars': [\"jia\", \"meet\", \"meera\"], 'passings': [19, 22, 17], 'new': [23, 56, 77] }\n",
    "myvar = pd.DataFrame(mydataset)\n",
    "print(myvar)"
   ]
  },
  {
   "cell_type": "markdown",
   "id": "ce12b4a8-ecf3-41a0-82b7-8d08757a0af2",
   "metadata": {},
   "source": [
    "Locate Row"
   ]
  },
  {
   "cell_type": "code",
   "execution_count": 18,
   "id": "3cd9251a-e621-430e-8fda-4701f6314c0e",
   "metadata": {},
   "outputs": [
    {
     "name": "stdout",
     "output_type": "stream",
     "text": [
      "calories    390\n",
      "duration     45\n",
      "Name: 2, dtype: int64\n",
      "390\n"
     ]
    }
   ],
   "source": [
    "data = {\"calories\": [420, 380, 390], \"duration\": [50, 40, 45]}\n",
    "df = pd.DataFrame(data).iloc[2]\n",
    "print(df)\n",
    "print(df[\"calories\"])"
   ]
  },
  {
   "cell_type": "code",
   "execution_count": 8,
   "id": "39c540ea-8d0e-4889-822a-f3bbd9b6b61a",
   "metadata": {},
   "outputs": [
    {
     "name": "stdout",
     "output_type": "stream",
     "text": [
      "calories    380\n",
      "duration     40\n",
      "Name: 1, dtype: int64\n",
      "   calories  duration\n",
      "1       380        40\n",
      "   calories  duration\n",
      "1       380        40\n",
      "2       390        45\n"
     ]
    }
   ],
   "source": [
    "data = {\"calories\": [420, 380, 390], \"duration\": [50, 40, 45]}\n",
    "df = pd.DataFrame(data)\n",
    "print(df.loc[1])\n",
    "print(df.loc[[1]])\n",
    "print(df.loc[[1, 2]])\n"
   ]
  },
  {
   "cell_type": "code",
   "execution_count": 9,
   "id": "bc02092d-c884-4c81-8106-dcb0c7c3bf97",
   "metadata": {},
   "outputs": [
    {
     "name": "stdout",
     "output_type": "stream",
     "text": [
      "      calories  duration\n",
      "day2       380        40\n"
     ]
    }
   ],
   "source": [
    "data = {\"calories\": [420, 380, 390], \"duration\": [50, 40, 45]}\n",
    "df = pd.DataFrame(data, index=[\"day1\", \"day2\", \"day3\"])\n",
    "print(df.loc[[\"day2\"]])"
   ]
  },
  {
   "cell_type": "code",
   "execution_count": 30,
   "id": "085271f4-2377-4384-8baa-61b7a6a67af9",
   "metadata": {},
   "outputs": [
    {
     "name": "stdout",
     "output_type": "stream",
     "text": [
      "DAY0    2\n",
      "DAY1    4\n",
      "DAY2    6\n",
      "DAY3    8\n",
      "Name: Even, dtype: int64\n"
     ]
    }
   ],
   "source": [
    "data = {\"Even\" : [2,4,6,8], \"Odd\" : [1,3,5,7]}\n",
    "df = pd.DataFrame(data, index=[\"DAY0\", \"DAY1\", \"DAY2\", \"DAY3\"])\n",
    "print(df[\"Even\"])"
   ]
  },
  {
   "cell_type": "code",
   "execution_count": 32,
   "id": "7d0cb2e2-8e3d-42a7-8cf8-65a7fc99ec05",
   "metadata": {},
   "outputs": [
    {
     "name": "stdout",
     "output_type": "stream",
     "text": [
      "   Unnamed: 0      Name gender  salary\n",
      "0           0    ayushi      F   20000\n",
      "1           1     rohit      M   25000\n",
      "2           2  pranjali      F   27000\n"
     ]
    }
   ],
   "source": [
    "data = pd.read_csv(\"E:/Download/Datasets-main/Datasets-main/company.csv\")\n",
    "print(data)"
   ]
  },
  {
   "cell_type": "code",
   "execution_count": null,
   "id": "fc0ebd34-705f-4394-a948-f7ea5f9e63b5",
   "metadata": {},
   "outputs": [],
   "source": []
  }
 ],
 "metadata": {
  "kernelspec": {
   "display_name": "Python 3 (ipykernel)",
   "language": "python",
   "name": "python3"
  },
  "language_info": {
   "codemirror_mode": {
    "name": "ipython",
    "version": 3
   },
   "file_extension": ".py",
   "mimetype": "text/x-python",
   "name": "python",
   "nbconvert_exporter": "python",
   "pygments_lexer": "ipython3",
   "version": "3.12.4"
  }
 },
 "nbformat": 4,
 "nbformat_minor": 5
}
